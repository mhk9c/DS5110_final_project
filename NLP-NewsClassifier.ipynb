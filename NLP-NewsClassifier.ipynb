{
 "cells": [
  {
   "cell_type": "code",
   "execution_count": 1,
   "metadata": {},
   "outputs": [],
   "source": [
    "from utils_nlp import Tools\n",
    "tools = Tools('mhk9c')"
   ]
  },
  {
   "cell_type": "code",
   "execution_count": 2,
   "metadata": {},
   "outputs": [],
   "source": [
    "from sparknlp.base import *\n",
    "from sparknlp.annotator import *\n",
    "from sparknlp.pretrained import PretrainedPipeline\n",
    "import sparknlp\n",
    "from pyspark.sql import SparkSession\n",
    "from pyspark.ml import Pipeline\n",
    "from pyspark.ml.feature import CountVectorizer\n",
    "from pyspark.ml.clustering import LDA\n",
    "\n",
    "from pyspark.sql.functions import col,lit"
   ]
  },
  {
   "cell_type": "code",
   "execution_count": 3,
   "metadata": {},
   "outputs": [],
   "source": [
    "import sparknlp\n",
    "spark = sparknlp.start()"
   ]
  },
  {
   "cell_type": "code",
   "execution_count": 4,
   "metadata": {},
   "outputs": [
    {
     "name": "stdout",
     "output_type": "stream",
     "text": [
      "Done loading from /project/ds5559/team1_sp22/data//russian-troll-tweets-enriched.\n"
     ]
    }
   ],
   "source": [
    "_df = tools.load_data(spark, \"russian-troll-tweets-enriched\")\n",
    "df = _df.filter(_df['label']==1)\n",
    "df = df.withColumn(\"text\", col(\"content\"))"
   ]
  },
  {
   "cell_type": "code",
   "execution_count": null,
   "metadata": {},
   "outputs": [],
   "source": [
    "df.select('text').show(5,False)"
   ]
  },
  {
   "cell_type": "code",
   "execution_count": 5,
   "metadata": {},
   "outputs": [
    {
     "name": "stdout",
     "output_type": "stream",
     "text": [
      "bert_sequence_classifier_age_news_pipeline download started this may take some time.\n",
      "Approx size to download 40.4 MB\n",
      "[OK!]\n"
     ]
    }
   ],
   "source": [
    "news_pipeline = PretrainedPipeline(\"bert_sequence_classifier_age_news_pipeline\", lang = \"en\")"
   ]
  },
  {
   "cell_type": "code",
   "execution_count": 11,
   "metadata": {},
   "outputs": [
    {
     "data": {
      "text/plain": [
       "sparknlp.pretrained.PretrainedPipeline"
      ]
     },
     "execution_count": 11,
     "metadata": {},
     "output_type": "execute_result"
    }
   ],
   "source": [
    "type(news_pipeline)"
   ]
  },
  {
   "cell_type": "code",
   "execution_count": 6,
   "metadata": {},
   "outputs": [],
   "source": [
    "result = news_pipeline.annotate(df, column='text')"
   ]
  },
  {
   "cell_type": "code",
   "execution_count": 9,
   "metadata": {},
   "outputs": [],
   "source": [
    "# result.printSchema()"
   ]
  },
  {
   "cell_type": "code",
   "execution_count": 10,
   "metadata": {},
   "outputs": [
    {
     "name": "stdout",
     "output_type": "stream",
     "text": [
      "+--------------------------------------------------------------------------------------------------------------------------------------+------------------------------------------------------------------------------------------------------------------------------------------------------------------------+\n",
      "|text                                                                                                                                  |class                                                                                                                                                                   |\n",
      "+--------------------------------------------------------------------------------------------------------------------------------------+------------------------------------------------------------------------------------------------------------------------------------------------------------------------+\n",
      "|'@JebBush we don't like your family Jeb #GOPStop'                                                                                     |[{category, 0, 48, World, {Some(Sci/Tech) -> 0.025877673, Some(Sports) -> 0.0020074742, Some(World) -> 0.65198517, sentence -> 0, Some(Business) -> 0.3201297}, []}]    |\n",
      "|You're talking about immigrants....Begin from yourself! #GOPDebate #GOPStop https://t.co/H3vdCosoHy                                   |[{category, 0, 98, Business, {Some(Sci/Tech) -> 0.12875293, Some(Sports) -> 8.4017374E-4, Some(World) -> 0.25872862, sentence -> 0, Some(Business) -> 0.61167824}, []}] |\n",
      "|#GOPStop #GOPDebate https://t.co/hdQ5oEHxJ1                                                                                           |[{category, 0, 42, Business, {Some(Sci/Tech) -> 0.19228972, Some(Sports) -> 0.008814988, Some(World) -> 0.21536829, sentence -> 0, Some(Business) -> 0.583527}, []}]    |\n",
      "|'@Adam_Mathisss @sluggahjells What took you so long?'                                                                                 |[{category, 0, 52, Business, {Some(Sci/Tech) -> 0.040359847, Some(Sports) -> 0.038013265, Some(World) -> 0.05893164, sentence -> 0, Some(Business) -> 0.8626952}, []}]  |\n",
      "|#teaparty #GOPStop Not these clowns again! #GOPDebate                                                                                 |[{category, 0, 52, World, {Some(Sci/Tech) -> 0.0272461, Some(Sports) -> 0.027665477, Some(World) -> 0.8251229, sentence -> 0, Some(Business) -> 0.11996553}, []}]       |\n",
      "|'@nowthisnews #GOPDebate #GOPStop https://t.co/Q5LbcUU72Q'                                                                            |[{category, 0, 57, Business, {Some(Sci/Tech) -> 0.07014748, Some(Sports) -> 0.001607611, Some(World) -> 0.22177781, sentence -> 0, Some(Business) -> 0.7064671}, []}]   |\n",
      "|Republicans Are All Racist! #GOPDebateQuestions #GOPStop #CCOT                                                                        |[{category, 0, 61, World, {Some(Sci/Tech) -> 0.011612934, Some(Sports) -> 0.002813666, Some(World) -> 0.94800264, sentence -> 0, Some(Business) -> 0.03757078}, []}]    |\n",
      "|It's impossible to watch #foxbusinessdebate. So much simplistic bullshit especially on foreign policy #GOPStop #TCOT                  |[{category, 0, 115, Business, {Some(Sci/Tech) -> 0.14310333, Some(Sports) -> 3.8664625E-4, Some(World) -> 0.21782151, sentence -> 0, Some(Business) -> 0.6386885}, []}] |\n",
      "|Very excited about this new one. What a group. #NOVITIATE https://t.co/T5g2454Rw8                                                     |[{category, 0, 80, Business, {Some(Sci/Tech) -> 0.049013253, Some(Sports) -> 0.0011429575, Some(World) -> 0.042967703, sentence -> 0, Some(Business) -> 0.9068761}, []}]|\n",
      "|. the only reason why anyone fights against tougher environmental laws is because they care more about money or have been manipulated.|[{category, 0, 133, Sci/Tech, {Some(Sci/Tech) -> 0.7690251, Some(Sports) -> 7.1261404E-4, Some(World) -> 0.07386003, sentence -> 0, Some(Business) -> 0.15640226}, []}] |\n",
      "+--------------------------------------------------------------------------------------------------------------------------------------+------------------------------------------------------------------------------------------------------------------------------------------------------------------------+\n",
      "only showing top 10 rows\n",
      "\n"
     ]
    }
   ],
   "source": [
    "result.select('text','class').show(10,False)"
   ]
  },
  {
   "cell_type": "code",
   "execution_count": null,
   "metadata": {},
   "outputs": [],
   "source": [
    "processed_df  = pipeline.transform(df)"
   ]
  },
  {
   "cell_type": "code",
   "execution_count": null,
   "metadata": {},
   "outputs": [],
   "source": [
    "processed_df.select('sentiment').show(5, False)"
   ]
  },
  {
   "cell_type": "code",
   "execution_count": null,
   "metadata": {},
   "outputs": [],
   "source": []
  },
  {
   "cell_type": "code",
   "execution_count": null,
   "metadata": {},
   "outputs": [],
   "source": []
  },
  {
   "cell_type": "code",
   "execution_count": null,
   "metadata": {},
   "outputs": [],
   "source": []
  }
 ],
 "metadata": {
  "kernelspec": {
   "display_name": "DS 5110 Spark 3.1",
   "language": "python",
   "name": "ds5110_spark3.1"
  },
  "language_info": {
   "codemirror_mode": {
    "name": "ipython",
    "version": 3
   },
   "file_extension": ".py",
   "mimetype": "text/x-python",
   "name": "python",
   "nbconvert_exporter": "python",
   "pygments_lexer": "ipython3",
   "version": "3.7.10"
  }
 },
 "nbformat": 4,
 "nbformat_minor": 4
}
