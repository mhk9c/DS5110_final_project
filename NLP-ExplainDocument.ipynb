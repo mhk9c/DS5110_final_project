{
 "cells": [
  {
   "cell_type": "code",
   "execution_count": 1,
   "metadata": {},
   "outputs": [],
   "source": [
    "from utils_nlp import Tools\n",
    "tools = Tools('mhk9c')"
   ]
  },
  {
   "cell_type": "code",
   "execution_count": 2,
   "metadata": {},
   "outputs": [],
   "source": [
    "from sparknlp.base import *\n",
    "from sparknlp.annotator import *\n",
    "from sparknlp.pretrained import PretrainedPipeline\n",
    "import sparknlp\n",
    "from pyspark.sql import SparkSession\n",
    "from pyspark.ml import Pipeline\n",
    "from pyspark.ml.feature import CountVectorizer\n",
    "from pyspark.ml.clustering import LDA\n",
    "\n",
    "from pyspark.sql.functions import col,lit"
   ]
  },
  {
   "cell_type": "code",
   "execution_count": 3,
   "metadata": {},
   "outputs": [],
   "source": [
    "import sparknlp\n",
    "spark = sparknlp.start()"
   ]
  },
  {
   "cell_type": "code",
   "execution_count": 8,
   "metadata": {},
   "outputs": [
    {
     "name": "stdout",
     "output_type": "stream",
     "text": [
      "Done loading from /project/ds5559/team1_sp22/data//russian-troll-tweets-enriched.\n"
     ]
    }
   ],
   "source": [
    "_df = tools.load_data(spark, \"russian-troll-tweets-enriched\")\n",
    "df = _df.filter(_df['label']==1)\n",
    "df = df.withColumn(\"text\", col(\"content\"))"
   ]
  },
  {
   "cell_type": "code",
   "execution_count": 9,
   "metadata": {},
   "outputs": [
    {
     "name": "stdout",
     "output_type": "stream",
     "text": [
      "+---------------------------------------------------------------------------------------------------+\n",
      "|text                                                                                               |\n",
      "+---------------------------------------------------------------------------------------------------+\n",
      "|'@JebBush we don't like your family Jeb #GOPStop'                                                  |\n",
      "|You're talking about immigrants....Begin from yourself! #GOPDebate #GOPStop https://t.co/H3vdCosoHy|\n",
      "|#GOPStop #GOPDebate https://t.co/hdQ5oEHxJ1                                                        |\n",
      "|'@Adam_Mathisss @sluggahjells What took you so long?'                                              |\n",
      "|#teaparty #GOPStop Not these clowns again! #GOPDebate                                              |\n",
      "+---------------------------------------------------------------------------------------------------+\n",
      "only showing top 5 rows\n",
      "\n"
     ]
    }
   ],
   "source": [
    "df.select('text').show(5,False)"
   ]
  },
  {
   "cell_type": "code",
   "execution_count": 5,
   "metadata": {},
   "outputs": [
    {
     "name": "stdout",
     "output_type": "stream",
     "text": [
      "explain_document_dl download started this may take some time.\n",
      "Approx size to download 169.4 MB\n",
      "[OK!]\n"
     ]
    }
   ],
   "source": [
    "pipeline = PretrainedPipeline('explain_document_dl', lang='en')"
   ]
  },
  {
   "cell_type": "code",
   "execution_count": 18,
   "metadata": {},
   "outputs": [],
   "source": [
    "result = pipeline.annotate(df, column='text')"
   ]
  },
  {
   "cell_type": "code",
   "execution_count": 20,
   "metadata": {},
   "outputs": [
    {
     "name": "stdout",
     "output_type": "stream",
     "text": [
      "+--------------------------------------------------------------------------------------------------------------------------------------+---------------------------------------------------------------------------------------+\n",
      "|text                                                                                                                                  |entities                                                                               |\n",
      "+--------------------------------------------------------------------------------------------------------------------------------------+---------------------------------------------------------------------------------------+\n",
      "|'@JebBush we don't like your family Jeb #GOPStop'                                                                                     |[{chunk, 36, 47, Jeb #GOPStop, {entity -> PER, sentence -> 0, chunk -> 0}, []}]        |\n",
      "|You're talking about immigrants....Begin from yourself! #GOPDebate #GOPStop https://t.co/H3vdCosoHy                                   |[]                                                                                     |\n",
      "|#GOPStop #GOPDebate https://t.co/hdQ5oEHxJ1                                                                                           |[]                                                                                     |\n",
      "|'@Adam_Mathisss @sluggahjells What took you so long?'                                                                                 |[]                                                                                     |\n",
      "|#teaparty #GOPStop Not these clowns again! #GOPDebate                                                                                 |[]                                                                                     |\n",
      "|'@nowthisnews #GOPDebate #GOPStop https://t.co/Q5LbcUU72Q'                                                                            |[{chunk, 14, 32, #GOPDebate #GOPStop, {entity -> MISC, sentence -> 0, chunk -> 0}, []}]|\n",
      "|Republicans Are All Racist! #GOPDebateQuestions #GOPStop #CCOT                                                                        |[{chunk, 0, 10, Republicans, {entity -> MISC, sentence -> 0, chunk -> 0}, []}]         |\n",
      "|It's impossible to watch #foxbusinessdebate. So much simplistic bullshit especially on foreign policy #GOPStop #TCOT                  |[{chunk, 102, 115, #GOPStop #TCOT, {entity -> ORG, sentence -> 1, chunk -> 0}, []}]    |\n",
      "|Very excited about this new one. What a group. #NOVITIATE https://t.co/T5g2454Rw8                                                     |[{chunk, 47, 56, #NOVITIATE, {entity -> LOC, sentence -> 2, chunk -> 0}, []}]          |\n",
      "|. the only reason why anyone fights against tougher environmental laws is because they care more about money or have been manipulated.|[]                                                                                     |\n",
      "+--------------------------------------------------------------------------------------------------------------------------------------+---------------------------------------------------------------------------------------+\n",
      "only showing top 10 rows\n",
      "\n"
     ]
    }
   ],
   "source": [
    "result.select('text','entities').show(10,False)"
   ]
  },
  {
   "cell_type": "code",
   "execution_count": null,
   "metadata": {},
   "outputs": [],
   "source": [
    "processed_df  = pipeline.transform(df)"
   ]
  },
  {
   "cell_type": "code",
   "execution_count": null,
   "metadata": {},
   "outputs": [],
   "source": [
    "processed_df.select('sentiment').show(5, False)"
   ]
  },
  {
   "cell_type": "code",
   "execution_count": null,
   "metadata": {},
   "outputs": [],
   "source": []
  },
  {
   "cell_type": "code",
   "execution_count": null,
   "metadata": {},
   "outputs": [],
   "source": []
  },
  {
   "cell_type": "code",
   "execution_count": 17,
   "metadata": {},
   "outputs": [
    {
     "data": {
      "text/plain": [
       "['Immigrants', 'Brown Cow']"
      ]
     },
     "execution_count": 17,
     "metadata": {},
     "output_type": "execute_result"
    }
   ],
   "source": [
    "# Annotate your testing dataset\n",
    "result = pipeline.annotate(\"You're talking about Immigrants Begin from yourself! How Now Brown Cow\")\n",
    "\n",
    "# What's in the pipeline\n",
    "list(result.keys())\n",
    "\n",
    "# Check the results\n",
    "result['entities']\n"
   ]
  },
  {
   "cell_type": "code",
   "execution_count": null,
   "metadata": {},
   "outputs": [],
   "source": []
  }
 ],
 "metadata": {
  "kernelspec": {
   "display_name": "DS 5110 Spark 3.1",
   "language": "python",
   "name": "ds5110_spark3.1"
  },
  "language_info": {
   "codemirror_mode": {
    "name": "ipython",
    "version": 3
   },
   "file_extension": ".py",
   "mimetype": "text/x-python",
   "name": "python",
   "nbconvert_exporter": "python",
   "pygments_lexer": "ipython3",
   "version": "3.7.10"
  }
 },
 "nbformat": 4,
 "nbformat_minor": 4
}
