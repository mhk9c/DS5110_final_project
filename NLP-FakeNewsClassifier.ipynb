{
 "cells": [
  {
   "cell_type": "code",
   "execution_count": 1,
   "metadata": {},
   "outputs": [],
   "source": [
    "from utils_nlp import Tools\n",
    "tools = Tools('mhk9c')"
   ]
  },
  {
   "cell_type": "code",
   "execution_count": 2,
   "metadata": {},
   "outputs": [],
   "source": [
    "from sparknlp.base import *\n",
    "from sparknlp.annotator import *\n",
    "from sparknlp.pretrained import PretrainedPipeline\n",
    "import sparknlp\n",
    "from pyspark.sql import SparkSession\n",
    "from pyspark.ml import Pipeline\n",
    "from pyspark.ml.feature import CountVectorizer\n",
    "from pyspark.ml.clustering import LDA\n",
    "\n",
    "from pyspark.sql.functions import col,lit"
   ]
  },
  {
   "cell_type": "code",
   "execution_count": 3,
   "metadata": {},
   "outputs": [],
   "source": [
    "import sparknlp\n",
    "spark = sparknlp.start()"
   ]
  },
  {
   "cell_type": "code",
   "execution_count": 23,
   "metadata": {},
   "outputs": [
    {
     "name": "stdout",
     "output_type": "stream",
     "text": [
      "Done loading from /project/ds5559/team1_sp22/data//russian-troll-tweets-enriched.\n"
     ]
    }
   ],
   "source": [
    "_df = tools.load_data(spark, \"russian-troll-tweets-enriched\")\n",
    "df = _df.filter(_df['label']==0)\n",
    "df = df.withColumn(\"text\", col(\"content\"))"
   ]
  },
  {
   "cell_type": "code",
   "execution_count": 24,
   "metadata": {},
   "outputs": [
    {
     "name": "stdout",
     "output_type": "stream",
     "text": [
      "+---------------------------------------------------------------------------------------------------------------+\n",
      "|text                                                                                                           |\n",
      "+---------------------------------------------------------------------------------------------------------------+\n",
      "|RT GoogleStreetArt: Street Art by Weslart in La Bañeza Spain https://t.co/LtHrdvIBCH                           |\n",
      "|New Street Art by Osgemeos https://t.co/AbHowZ6gsR                                                             |\n",
      "|Street Art by Weslart in La Bañeza Spain https://t.co/LtHrdvIBCH                                               |\n",
      "|RT GoogleStreetArt: Sean Yoro using tide levels to reveal unique Street Art twice a day https://t.co/er5ySndnkf|\n",
      "|Newest Street Art piece in Salem mass for UrbanArtMuseum by chorboogie https://t.co/QQEPv25zdO                 |\n",
      "+---------------------------------------------------------------------------------------------------------------+\n",
      "only showing top 5 rows\n",
      "\n"
     ]
    }
   ],
   "source": [
    "df.select('text').show(5,False)"
   ]
  },
  {
   "cell_type": "code",
   "execution_count": 25,
   "metadata": {},
   "outputs": [
    {
     "name": "stdout",
     "output_type": "stream",
     "text": [
      "tfhub_use download started this may take some time.\n",
      "Approximate size to download 923.7 MB\n",
      "[OK!]\n",
      "classifierdl_use_fakenews download started this may take some time.\n",
      "Approximate size to download 21.4 MB\n",
      "[OK!]\n"
     ]
    }
   ],
   "source": [
    "document_assembler = DocumentAssembler()\\\n",
    "  .setInputCol(\"text\")\\\n",
    "  .setOutputCol(\"document\")\n",
    "\n",
    "use = UniversalSentenceEncoder.pretrained('tfhub_use', lang=\"en\") \\\n",
    "  .setInputCols([\"document\"])\\\n",
    "  .setOutputCol(\"sentence_embeddings\")\n",
    "\n",
    "document_classifier = ClassifierDLModel.pretrained('classifierdl_use_fakenews', 'en') \\\n",
    "  .setInputCols([\"document\", \"sentence_embeddings\"]) \\\n",
    "  .setOutputCol(\"class\")\n",
    "\n",
    "nlpPipeline = Pipeline(stages=[document_assembler, use, document_classifier])\n",
    "\n",
    "# light_pipeline = LightPipeline(nlpPipeline.fit(spark.createDataFrame([['']]).toDF(\"text\")))\n",
    "\n",
    "# annotations = light_pipeline.fullAnnotate('Donald Trump a KGB Spy? 11/02/2016 In today’s video, Christopher Greene of AMTV reports Hillary Clinton')"
   ]
  },
  {
   "cell_type": "code",
   "execution_count": 17,
   "metadata": {},
   "outputs": [
    {
     "data": {
      "text/plain": [
       "pyspark.ml.pipeline.Pipeline"
      ]
     },
     "execution_count": 17,
     "metadata": {},
     "output_type": "execute_result"
    }
   ],
   "source": [
    "type(nlpPipeline)"
   ]
  },
  {
   "cell_type": "code",
   "execution_count": 26,
   "metadata": {},
   "outputs": [],
   "source": [
    "model = nlpPipeline.fit(df)"
   ]
  },
  {
   "cell_type": "code",
   "execution_count": 27,
   "metadata": {},
   "outputs": [],
   "source": [
    "prediction = model.transform(df)"
   ]
  },
  {
   "cell_type": "code",
   "execution_count": 29,
   "metadata": {},
   "outputs": [
    {
     "name": "stdout",
     "output_type": "stream",
     "text": [
      "+---------------------------------------------------------------------------------------------------------------+----------------------------------------------------------------------------------------+\n",
      "|text                                                                                                           |class                                                                                   |\n",
      "+---------------------------------------------------------------------------------------------------------------+----------------------------------------------------------------------------------------+\n",
      "|RT GoogleStreetArt: Street Art by Weslart in La Bañeza Spain https://t.co/LtHrdvIBCH                           |[{category, 0, 83, FAKE, {sentence -> 0, FAKE -> 1.0, REAL -> 1.7270991E-9}, []}]       |\n",
      "|New Street Art by Osgemeos https://t.co/AbHowZ6gsR                                                             |[{category, 0, 49, FAKE, {sentence -> 0, FAKE -> 1.0, REAL -> 9.623411E-14}, []}]       |\n",
      "|Street Art by Weslart in La Bañeza Spain https://t.co/LtHrdvIBCH                                               |[{category, 0, 63, FAKE, {sentence -> 0, FAKE -> 1.0, REAL -> 9.978724E-11}, []}]       |\n",
      "|RT GoogleStreetArt: Sean Yoro using tide levels to reveal unique Street Art twice a day https://t.co/er5ySndnkf|[{category, 0, 110, FAKE, {sentence -> 0, FAKE -> 0.9999995, REAL -> 4.4035212E-7}, []}]|\n",
      "|Newest Street Art piece in Salem mass for UrbanArtMuseum by chorboogie https://t.co/QQEPv25zdO                 |[{category, 0, 93, FAKE, {sentence -> 0, FAKE -> 1.0, REAL -> 5.214388E-9}, []}]        |\n",
      "+---------------------------------------------------------------------------------------------------------------+----------------------------------------------------------------------------------------+\n",
      "only showing top 5 rows\n",
      "\n"
     ]
    }
   ],
   "source": [
    "prediction.select('text','class').show(5, False)"
   ]
  },
  {
   "cell_type": "code",
   "execution_count": 31,
   "metadata": {},
   "outputs": [
    {
     "data": {
      "text/plain": [
       "[{'document': [Annotation(document, 0, 102, Donald Trump a KGB Spy? 11/02/2016 In today’s video, Christopher Greene of AMTV reports Hillary Clinton, {})],\n",
       "  'sentence_embeddings': [Annotation(sentence_embeddings, 0, 102, Donald Trump a KGB Spy? 11/02/2016 In today’s video, Christopher Greene of AMTV reports Hillary Clinton, {'sentence': '0', 'token': 'Donald Trump a KGB Spy? 11/02/2016 In today’s video, Christopher Greene of AMTV reports Hillary Clinton', 'pieceId': '-1', 'isWordStart': 'true'})],\n",
       "  'class': [Annotation(category, 0, 102, FAKE, {'sentence': '0', 'FAKE': '0.99999917', 'REAL': '8.4841463E-7'})]}]"
      ]
     },
     "execution_count": 31,
     "metadata": {},
     "output_type": "execute_result"
    }
   ],
   "source": [
    "light_pipeline = LightPipeline(nlpPipeline.fit(spark.createDataFrame([['']]).toDF(\"text\")))\n",
    "\n",
    "annotations = light_pipeline.fullAnnotate('Donald Trump a KGB Spy? 11/02/2016 In today’s video, Christopher Greene of AMTV reports Hillary Clinton')\n",
    "annotations.select"
   ]
  },
  {
   "cell_type": "code",
   "execution_count": null,
   "metadata": {},
   "outputs": [],
   "source": []
  }
 ],
 "metadata": {
  "kernelspec": {
   "display_name": "DS 5110 Spark 3.1",
   "language": "python",
   "name": "ds5110_spark3.1"
  },
  "language_info": {
   "codemirror_mode": {
    "name": "ipython",
    "version": 3
   },
   "file_extension": ".py",
   "mimetype": "text/x-python",
   "name": "python",
   "nbconvert_exporter": "python",
   "pygments_lexer": "ipython3",
   "version": "3.7.10"
  }
 },
 "nbformat": 4,
 "nbformat_minor": 4
}
