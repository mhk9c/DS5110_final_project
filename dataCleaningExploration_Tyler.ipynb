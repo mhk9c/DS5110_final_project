{
 "cells": [
  {
   "cell_type": "markdown",
   "metadata": {},
   "source": [
    "### DS 5110 Final Project - Initial Data Exploration\n",
    "#### Tyler Entner (tje6gt)"
   ]
  },
  {
   "cell_type": "markdown",
   "metadata": {},
   "source": [
    "\n",
    "#### Dataset Variable Descriptions:\n",
    "\n",
    "| Variable Name      | Description |\n",
    "| ----------- | ----------- |\n",
    "|**external_author_id**|\tAn author account ID from Twitter|\n",
    "|**author**\t|The handle sending the tweet\n",
    "|**content**\t|The text of the tweet\n",
    "|**region**|\tA region classification, as determined by Social Studio\n",
    "|**language**|\tThe language of the tweet\n",
    "|**publish_date**|\tThe date and time the tweet was sent\n",
    "|**harvested_date**|\tThe date and time the tweet was collected by Social Studio\n",
    "|**following**|\tThe number of accounts the handle was following at the time of the tweet\n",
    "|**followers**|\tThe number of followers the handle had at the time of the tweet\n",
    "|**updates**|\tThe number of “update actions” on the account that authored the tweet, including tweets, retweets and likes\n",
    "|**post_type**|\tIndicates if the tweet was a retweet or a quote-tweet\n",
    "|**account_type**|\tSpecific account theme, as coded by Linvill and Warren\n",
    "|**retweet**|\tA binary indicator of whether or not the tweet is a retweet\n",
    "|**account_category**|\tGeneral account theme, as coded by Linvill and Warren\n",
    "|**new_june_2018**|\tA binary indicator of whether the handle was newly listed in June 2018\n",
    "|**alt_external_id**|\tReconstruction of author account ID from Twitter, derived from article_url variable and the first list provided to Congress\n",
    "|**tweet_id**|\tUnique id assigned by twitter to each status update, derived from article_url\n",
    "|**article_url**|\tLink to original tweet. Now redirects to \"Account Suspended\" page\n",
    "|**tco1_step1**|\tFirst redirect for the first http(s)://t.co/ link in a tweet, if it exists\n",
    "|**tco2_step1**|\tFirst redirect for the second http(s)://t.co/ link in a tweet, if it exists\n",
    "|**tco3_step1**|\tFirst redirect for the third http(s)://t.co/ link in a tweet, if it exists"
   ]
  },
  {
   "cell_type": "markdown",
   "metadata": {},
   "source": [
    "#### Data Ingestion\n",
    "\n",
    "First, we'll load all of the datasets into dataframes. Each dataset will have the same schema, so we can load multiple datasets with one call."
   ]
  },
  {
   "cell_type": "code",
   "execution_count": 1,
   "metadata": {},
   "outputs": [],
   "source": [
    "# import context manager: SparkSession\n",
    "from pyspark.sql import SparkSession\n",
    "\n",
    "# import data types\n",
    "from pyspark.sql.types import StructType, StructField, StringType, IntegerType\n",
    "\n",
    "#Create session with custom app name, grab context\n",
    "spark = SparkSession.builder \\\n",
    "        .master(\"local\") \\\n",
    "        .appName(\"project_data_exploration\") \\\n",
    "        .getOrCreate()\n",
    "\n",
    "sc = spark.sparkContext"
   ]
  },
  {
   "cell_type": "code",
   "execution_count": 2,
   "metadata": {},
   "outputs": [],
   "source": [
    "# Set data directory\n",
    "data_directory = \"data/\"\n",
    "\n",
    "# Define custom schema of csv files\n",
    "schema = StructType([StructField('external_author_id', StringType(), True), \n",
    "                     StructField('author', StringType(), True),\n",
    "                     StructField('content', StringType(), True),\n",
    "                     StructField('region', StringType(), True),\n",
    "                     StructField('language', StringType(), True),\n",
    "                     StructField('publish_date', StringType(), True),\n",
    "                     StructField('harvested_date', StringType(), True),\n",
    "                     StructField('following', IntegerType(), True),\n",
    "                     StructField('followers', IntegerType(), True),\n",
    "                     StructField('updates', IntegerType(), True),\n",
    "                     StructField('post_type', StringType(), True),\n",
    "                     StructField('account_type', StringType(), True),\n",
    "                     StructField('retweet', IntegerType(), True),\n",
    "                     StructField('account_category', StringType(), True),\n",
    "                     StructField('new_june_2018', IntegerType(), True),\n",
    "                     StructField('alt_external_id', StringType(), True),\n",
    "                     StructField('tweet_id', StringType(), True),\n",
    "                     StructField('article_url', StringType(), True),\n",
    "                     StructField('tco1_step1', StringType(), True),\n",
    "                     StructField('tco2_step1', StringType(), True),\n",
    "                     StructField('tco3_step1', StringType(), True)                    \n",
    "                    ])\n",
    "\n",
    "# Create df by loading in all csv files in data_directory with schema\n",
    "df = spark.read.format(\"csv\") \\\n",
    "    .option(\"header\", \"true\") \\\n",
    "    .option(\"sep\",\",\") \\\n",
    "    .schema(schema) \\\n",
    "    .load(data_directory)"
   ]
  },
  {
   "cell_type": "code",
   "execution_count": 19,
   "metadata": {},
   "outputs": [
    {
     "data": {
      "text/plain": [
       "[Row(external_author_id='1647045721', author='CARRIETHORNTHON', content='New Study Reveals Liberals Have A Lower Average IQ Than Conservatives http://t.co/B82NFpFSf6 WE ON TWITTER KNEW THIS ALREADY.', region='United States', language='English', publish_date='6/1/2015 22:04', harvested_date='6/1/2015 22:04', following=80, followers=207, updates=1193, post_type='RETWEET', account_type='Right', retweet=1, account_category='RightTroll', new_june_2018=0, alt_external_id='1647045721', tweet_id='605495107186364419', article_url='http://twitter.com/CarrieThornthon/statuses/605495107186364419', tco1_step1='http://gopthedailydose.com/2015/06/01/new-study-reveals-liberals-have-a-lower-average-iq-than-conservatives/', tco2_step1=None, tco3_step1=None),\n",
       " Row(external_author_id='1647045721', author='CARRIETHORNTHON', content='Lindsey Graham has an entirely reasonable position on climate change, sometimes http://t.co/kZMZka7Ja7 http://t.co/55juNRjwAT', region='United States', language='English', publish_date='6/1/2015 22:04', harvested_date='6/1/2015 22:04', following=80, followers=207, updates=1195, post_type='RETWEET', account_type='Right', retweet=1, account_category='RightTroll', new_june_2018=0, alt_external_id='1647045721', tweet_id='605495132540911616', article_url='http://twitter.com/CarrieThornthon/statuses/605495132540911616', tco1_step1='https://twitter.com/HuffPostPol/status/605465259441311745/photo/1', tco2_step1='http://huff.to/1KIrtyZ', tco3_step1=None)]"
      ]
     },
     "execution_count": 19,
     "metadata": {},
     "output_type": "execute_result"
    }
   ],
   "source": [
    "# Filter for english content only\n",
    "df_english = df.filter(df['language']=='English')\n",
    "df.take(2) "
   ]
  },
  {
   "cell_type": "code",
   "execution_count": 22,
   "metadata": {},
   "outputs": [
    {
     "name": "stdout",
     "output_type": "stream",
     "text": [
      "2946207 21\n",
      "2096049 21\n"
     ]
    }
   ],
   "source": [
    "# Some information on the dataset:\n",
    "print(df.count(), len(df.columns))\n",
    "print(df_english.count(), len(df_english.columns))\n",
    "df = df_english #replace df with english df"
   ]
  },
  {
   "cell_type": "code",
   "execution_count": 5,
   "metadata": {},
   "outputs": [
    {
     "name": "stdout",
     "output_type": "stream",
     "text": [
      "+-------+--------------------+-----------------+------------------+\n",
      "|summary|        publish_date|        following|         followers|\n",
      "+-------+--------------------+-----------------+------------------+\n",
      "|  count|             2946024|          2914257|           2938143|\n",
      "|   mean|             10.0875|3450.095834375623| 7015.175690904085|\n",
      "| stddev|   11.46939249854648|5586.766929936087|14542.156191001564|\n",
      "|    min|    Защитив свое ...|               -1|                -1|\n",
      "|    25%|                 0.0|              333|               322|\n",
      "|    50%|                 5.0|             1512|              1274|\n",
      "|    75%|                18.0|             4761|             10656|\n",
      "|    max|…\"\" https://t.co/...|            76210|            251276|\n",
      "+-------+--------------------+-----------------+------------------+\n",
      "\n"
     ]
    }
   ],
   "source": [
    "#Summary on numerical columns:\n",
    "df.select('publish_date','following','followers', 'emoji').summary().show()"
   ]
  },
  {
   "cell_type": "code",
   "execution_count": 21,
   "metadata": {},
   "outputs": [
    {
     "name": "stdout",
     "output_type": "stream",
     "text": [
      "+--------------------+-------+\n",
      "|              region|  count|\n",
      "+--------------------+-------+\n",
      "|       United States|1825534|\n",
      "|             Unknown| 239274|\n",
      "|      United Kingdom|  16582|\n",
      "|          Azerbaijan|   6847|\n",
      "|             Germany|   1277|\n",
      "|  Russian Federation|   1133|\n",
      "|                null|   1132|\n",
      "|               Italy|   1110|\n",
      "|              Canada|    598|\n",
      "|         Afghanistan|    455|\n",
      "|             Belarus|    444|\n",
      "|                Iraq|    423|\n",
      "|              Israel|    402|\n",
      "|United Arab Emirates|    362|\n",
      "|             Ukraine|    145|\n",
      "|               Spain|     69|\n",
      "|              France|     67|\n",
      "|               Egypt|     59|\n",
      "|              Sweden|     41|\n",
      "|              Mexico|     41|\n",
      "|Iran, Islamic Rep...|     20|\n",
      "|              Greece|     12|\n",
      "|             Finland|      8|\n",
      "|            Malaysia|      4|\n",
      "|              Latvia|      3|\n",
      "|      Czech Republic|      2|\n",
      "|              Serbia|      2|\n",
      "|             Denmark|      1|\n",
      "|           Hong Kong|      1|\n",
      "|         Switzerland|      1|\n",
      "+--------------------+-------+\n",
      "\n"
     ]
    }
   ],
   "source": [
    "# Unique counts of categorical columns:\n",
    "from pyspark.sql.functions import desc\n",
    "df.groupBy(\"region\").count().sort(desc('count')).show()"
   ]
  },
  {
   "cell_type": "code",
   "execution_count": 56,
   "metadata": {},
   "outputs": [
    {
     "name": "stdout",
     "output_type": "stream",
     "text": [
      "+-----------+-------+\n",
      "|  post_type|  count|\n",
      "+-----------+-------+\n",
      "|       null|1258752|\n",
      "|    RETWEET| 801766|\n",
      "|QUOTE_TWEET|  35531|\n",
      "+-----------+-------+\n",
      "\n"
     ]
    }
   ],
   "source": [
    "df.groupBy(\"post_type\").count().sort(desc('count')).show()"
   ]
  },
  {
   "cell_type": "code",
   "execution_count": 33,
   "metadata": {},
   "outputs": [
    {
     "name": "stdout",
     "output_type": "stream",
     "text": [
      "+----------------+------+\n",
      "|account_category| count|\n",
      "+----------------+------+\n",
      "|      RightTroll|695149|\n",
      "|        NewsFeed|596203|\n",
      "|       LeftTroll|414097|\n",
      "|    HashtagGamer|234094|\n",
      "|      Commercial|112385|\n",
      "|      NonEnglish| 26237|\n",
      "|      Fearmonger| 10983|\n",
      "|         Unknown|  6901|\n",
      "+----------------+------+\n",
      "\n"
     ]
    }
   ],
   "source": [
    "df.groupBy(\"account_category\").count().sort(desc('count')).show()"
   ]
  },
  {
   "cell_type": "markdown",
   "metadata": {},
   "source": [
    "#### Data Cleaning\n",
    "Now that the data has been ingested into a single dataframe, we can begin to examine a couple fields and determine if any cleaning needs to be done. \n",
    "\n",
    "Ideas:\n",
    "- Extract URL to seperate column, replace with <url>\n",
    "- Replace emojis with <emoji>, count number into seperate column\n",
    "- Take publish date and extract hour, day, month, year\n",
    "- Columns for length of content in words, characters"
   ]
  },
  {
   "cell_type": "code",
   "execution_count": 34,
   "metadata": {},
   "outputs": [],
   "source": [
    "#%pip install emoji"
   ]
  },
  {
   "cell_type": "code",
   "execution_count": 113,
   "metadata": {},
   "outputs": [],
   "source": [
    "# Create features\n",
    "import emoji\n",
    "import re\n",
    "import datetime\n",
    "from pyspark.sql.functions import col\n",
    "from pyspark.sql import functions as F\n",
    "from pyspark.mllib.stat import Statistics\n",
    "\n",
    "#df.withColumn('emoji_count', emoji.emoji_count(df.select('content'))).show()\n",
    "\n",
    "def count_emoji(string):\n",
    "    '''\n",
    "    Count number of emojis within a string\n",
    "    '''\n",
    "    if string:\n",
    "        return emoji.emoji_count(string)\n",
    "    else:\n",
    "        return 0\n",
    "count_emoji_udf = F.udf(lambda x: count_emoji(x), IntegerType())\n",
    "\n",
    "def extract_emoji(string):\n",
    "    '''\n",
    "    Extract emojis by converting them to text\n",
    "    '''\n",
    "    if string:\n",
    "        return emoji.demojize(emoji.distinct_emoji_lis(string))\n",
    "    else:\n",
    "        return 'None'\n",
    "extract_emoji_udf = F.udf(lambda x: extract_emoji(x), StringType())\n",
    "\n",
    "def extract_urls(string):\n",
    "    '''\n",
    "    Extract all urls in string\n",
    "    '''\n",
    "    if string:\n",
    "        urls = re.findall('(?:(?:https?|ftp):\\\\/\\\\/)?[\\\\w/\\\\-?=%.]+\\\\.[\\\\w/\\\\-&?=%.]+', string)\n",
    "        return urls\n",
    "    else:\n",
    "        return 'None'\n",
    "extract_urls_udf = F.udf(lambda x: extract_urls(x), StringType())\n",
    "\n",
    "def url_count(string):\n",
    "    '''\n",
    "    Count all urls in string\n",
    "    '''\n",
    "    if string:\n",
    "        return(len(extract_urls(string)))\n",
    "    else:\n",
    "        return 0\n",
    "url_count_udf = F.udf(lambda x: url_count(x), IntegerType())\n",
    "\n",
    "def extract_url_parts(string):\n",
    "    '''\n",
    "    Return url in parts (https://stackoverflow.com/questions/27745/getting-parts-of-a-url-regex)\n",
    "    '''\n",
    "    if string:\n",
    "        return re.findall('^((http[s]?|ftp):\\/)?\\/?([^:\\/\\s]+)((\\/\\w+)*\\/)([\\w\\-\\.]+[^#?\\s]+)(.*)?(#[\\w\\-]+)?$', string)\n",
    "    else:\n",
    "        return 'None'\n",
    "\n",
    "def extract_urls_redirect_base(string_1, string_2, string_3):\n",
    "    '''\n",
    "    Call extract_url_parts and create a list of hosts from twitters redirect columns\n",
    "    '''\n",
    "    host_list = ['', '', '']\n",
    "    if string_3:\n",
    "        url_parts = extract_url_parts(string_3)\n",
    "        host_list[2] = url_parts[0][2]\n",
    "    if string_2:\n",
    "        url_parts = extract_url_parts(string_2)\n",
    "        host_list[1] = url_parts[0][2]\n",
    "    if string_1:\n",
    "        url_parts = extract_url_parts(string_1)\n",
    "        host_list[0] = url_parts[0][2]\n",
    "    else:\n",
    "        return 'None'\n",
    "    return host_list\n",
    "extract_urls_redirect_base_udf = F.udf(lambda x,y,z: extract_urls_redirect_base(x,y,z), StringType())\n",
    "\n",
    "def word_count(string):\n",
    "    '''\n",
    "    Count number of words in string (slightly error prone b/c split on spaces)\n",
    "    '''\n",
    "    if string:\n",
    "        return len(string.split(' '))\n",
    "    else:\n",
    "        return 0\n",
    "word_count_udf = F.udf(lambda x: word_count(x), IntegerType())\n",
    "\n",
    "def character_count(string):\n",
    "    '''\n",
    "    Count number of characters in the tweet\n",
    "    '''\n",
    "    if string:\n",
    "        return len(string)\n",
    "    else: \n",
    "        return 0\n",
    "character_count_udf = F.udf(lambda x: character_count(x), IntegerType())\n",
    "\n",
    "def extract_date_info(string, info_type):\n",
    "    '''\n",
    "    IN WORK\n",
    "    Extract date info\n",
    "    '''\n",
    "    date = datetime.datetime.strptime(string, '%m/%d/%Y %H:%M')\n",
    "    \n",
    "    if info_type == 'minute':\n",
    "        info = date.minute\n",
    "    elif info_type == 'hour':\n",
    "        info = date.hour\n",
    "    elif info_type == 'day':\n",
    "        info = date.day\n",
    "    elif info_type == 'month':\n",
    "        info = date.month\n",
    "    elif info_type == 'year':\n",
    "        info = date.year    \n",
    "    return info\n",
    "extract_date_info_udf = F.udf(lambda x,y: extract_date_info(x,y), IntegerType())"
   ]
  },
  {
   "cell_type": "code",
   "execution_count": 114,
   "metadata": {},
   "outputs": [
    {
     "data": {
      "text/plain": [
       "[Row(external_author_id='1647045721', author='CARRIETHORNTHON', content='New Study Reveals Liberals Have A Lower Average IQ Than Conservatives http://t.co/B82NFpFSf6 WE ON TWITTER KNEW THIS ALREADY.', region='United States', language='English', publish_date='6/1/2015 22:04', harvested_date='6/1/2015 22:04', following=80, followers=207, updates=1193, post_type='RETWEET', account_type='Right', retweet=1, account_category='RightTroll', new_june_2018=0, alt_external_id='1647045721', tweet_id='605495107186364419', article_url='http://twitter.com/CarrieThornthon/statuses/605495107186364419', tco1_step1='http://gopthedailydose.com/2015/06/01/new-study-reveals-liberals-have-a-lower-average-iq-than-conservatives/', tco2_step1=None, tco3_step1=None, emoji_count=0, emoji_text='', word_count=18, char_count=125, urls='[http://t.co/B82NFpFSf6]', url_count=1, url_hosts='[gopthedailydose.com, , ]'),\n",
       " Row(external_author_id='1647045721', author='CARRIETHORNTHON', content='Lindsey Graham has an entirely reasonable position on climate change, sometimes http://t.co/kZMZka7Ja7 http://t.co/55juNRjwAT', region='United States', language='English', publish_date='6/1/2015 22:04', harvested_date='6/1/2015 22:04', following=80, followers=207, updates=1195, post_type='RETWEET', account_type='Right', retweet=1, account_category='RightTroll', new_june_2018=0, alt_external_id='1647045721', tweet_id='605495132540911616', article_url='http://twitter.com/CarrieThornthon/statuses/605495132540911616', tco1_step1='https://twitter.com/HuffPostPol/status/605465259441311745/photo/1', tco2_step1='http://huff.to/1KIrtyZ', tco3_step1=None, emoji_count=0, emoji_text='', word_count=13, char_count=125, urls='[http://t.co/kZMZka7Ja7, http://t.co/55juNRjwAT]', url_count=2, url_hosts='[twitter.com, huff.to, ]')]"
      ]
     },
     "execution_count": 114,
     "metadata": {},
     "output_type": "execute_result"
    }
   ],
   "source": [
    "# Create dataframe witih all columns from feature extraction\n",
    "df = df.withColumn('emoji_count', count_emoji_udf(col('content'))) \\\n",
    "           .withColumn('emoji_text', extract_emoji_udf(col('content'))) \\\n",
    "           .withColumn('word_count', word_count_udf(col('content'))) \\\n",
    "           .withColumn('char_count', character_count_udf(col('content'))) \\\n",
    "           .withColumn('urls', extract_urls_udf(col('content'))) \\\n",
    "           .withColumn('url_count', url_count_udf(col('content'))) \\\n",
    "           .withColumn('url_hosts', extract_urls_redirect_base_udf(col('tco1_step1'), col('tco2_step1'), col('tco3_step1'))) \n",
    "        #   .withColumn('hour', extract_date_info_udf(col('publish_date'), 'hour')) \\\n",
    "         #  .withColumn('day', extract_date_info_udf(col('publish_date'), 'day')) \\\n",
    "          # .withColumn('month', extract_date_info_udf(col('publish_date'), 'month')) \\\n",
    "           #.withColumn('year', extract_date_info_udf(col('publish_date'), 'year')) \n",
    "\n",
    "\n",
    "df.take(2)"
   ]
  },
  {
   "cell_type": "code",
   "execution_count": 115,
   "metadata": {},
   "outputs": [
    {
     "name": "stdout",
     "output_type": "stream",
     "text": [
      "+-------+--------------+-----------------+------------------+------------------+------------------+------------------+\n",
      "|summary|  publish_date|        following|         followers|        word_count|        char_count|         url_count|\n",
      "+-------+--------------+-----------------+------------------+------------------+------------------+------------------+\n",
      "|  count|       2096049|          2096049|           2096049|           2096049|           2096049|           2096049|\n",
      "|   mean|          null|4241.562128557109| 7146.343682328037|13.181881721276554| 99.08216840350583|0.9484396595690272|\n",
      "| stddev|          null| 6231.62797308032|11624.817215193514| 5.479144213764923|35.353085319885935|0.8072481291750243|\n",
      "|    min|1/1/2013 16:16|                0|                 0|                 0|                 0|                 0|\n",
      "|    25%|          null|              606|               636|                10|                72|                 0|\n",
      "|    50%|          null|             2035|              1859|                12|               100|                 1|\n",
      "|    75%|          null|             5738|             12304|                16|               129|                 2|\n",
      "|    max| 9/9/2017 7:26|            76210|            206686|               123|               936|                15|\n",
      "+-------+--------------+-----------------+------------------+------------------+------------------+------------------+\n",
      "\n"
     ]
    }
   ],
   "source": [
    "df.select('publish_date','following','followers', 'emoji_count','word_count', 'char_count', 'url_count').summary().show()"
   ]
  },
  {
   "cell_type": "markdown",
   "metadata": {},
   "source": [
    "#### Data Visualization\n",
    "\n",
    "Create some sample graphics that detail features within the dataset\n",
    "\n",
    "Ideas:\n",
    "- Tokenize and create a word cloud visualization of content"
   ]
  },
  {
   "cell_type": "code",
   "execution_count": 117,
   "metadata": {},
   "outputs": [],
   "source": [
    "import matplotlib.pyplot as plt"
   ]
  },
  {
   "cell_type": "code",
   "execution_count": null,
   "metadata": {},
   "outputs": [],
   "source": [
    "# Visualize Follwers per account per post\n",
    "bins, counts = df.select('followers').rdd.flatMap(lambda x: x).histogram([0,10, 100, 1000, 10000, 1000000, 10000000])\n",
    "fig = plt.figure()\n",
    "ax = fig.add_subplot(2, 1, 1)\n",
    "ax.hist(bins[:-1], bins=bins, weights=counts)\n",
    "ax.set_xscale('log')\n",
    "plt.xlabel('Number of Followers')\n",
    "plt.ylabel('Count')\n",
    "plt.title('Histogram of Followers per Account (log scale)')\n",
    "plt.show()"
   ]
  },
  {
   "cell_type": "code",
   "execution_count": 124,
   "metadata": {},
   "outputs": [
    {
     "data": {
      "image/png": "[encoded data removed]",
      "text/plain": [
       "<Figure size 640x480 with 1 Axes>"
      ]
     },
     "metadata": {},
     "output_type": "display_data"
    }
   ],
   "source": [
    "# Visualize Word Count\n",
    "bins, counts = df.select('word_count').rdd.flatMap(lambda x:x).histogram(10)\n",
    "fig = plt.figure()\n",
    "ax = fig.add_subplot(2, 1, 1)\n",
    "ax.hist(bins[:-1], bins=bins, weights=counts)\n",
    "plt.xlabel('Number of Words in Tweet')\n",
    "plt.ylabel('Count')\n",
    "plt.title('Histogram of Words in Tweet')\n",
    "plt.show()"
   ]
  },
  {
   "cell_type": "code",
   "execution_count": 125,
   "metadata": {},
   "outputs": [
    {
     "data": {
      "image/png": "[encoded data removed]",
      "text/plain": [
       "<Figure size 640x480 with 1 Axes>"
      ]
     },
     "metadata": {},
     "output_type": "display_data"
    }
   ],
   "source": [
    "# Visualize Character Count\n",
    "bins, counts = df.select('char_count').rdd.flatMap(lambda x:x).histogram(10)\n",
    "fig = plt.figure()\n",
    "ax = fig.add_subplot(2, 1, 1)\n",
    "ax.hist(bins[:-1], bins=bins, weights=counts)\n",
    "plt.xlabel('Number of Characters in Tweet')\n",
    "plt.ylabel('Count')\n",
    "plt.title('Histogram of Characters in Tweet')\n",
    "plt.show()"
   ]
  },
  {
   "cell_type": "code",
   "execution_count": 127,
   "metadata": {},
   "outputs": [
    {
     "data": {
      "image/png": "[encoded data removed]",
      "text/plain": [
       "<Figure size 640x480 with 1 Axes>"
      ]
     },
     "metadata": {},
     "output_type": "display_data"
    }
   ],
   "source": [
    "# Visualize Number of URLs\n",
    "bins, counts = df.select('url_count').rdd.flatMap(lambda x:x).histogram(10)\n",
    "fig = plt.figure()\n",
    "ax = fig.add_subplot(2, 1, 1)\n",
    "ax.hist(bins[:-1], bins=bins, weights=counts)\n",
    "plt.xlabel('Number of URLs in Tweet')\n",
    "plt.ylabel('Count')\n",
    "plt.title('Histogram of URLs in Tweet')\n",
    "plt.show()"
   ]
  },
  {
   "cell_type": "code",
   "execution_count": 128,
   "metadata": {},
   "outputs": [
    {
     "data": {
      "image/png": "[encoded data removed]",
      "text/plain": [
       "<Figure size 640x480 with 1 Axes>"
      ]
     },
     "metadata": {},
     "output_type": "display_data"
    }
   ],
   "source": [
    "# Visualize Number of Emojis\n",
    "bins, counts = df.select('emoji_count').rdd.flatMap(lambda x:x).histogram(10)\n",
    "fig = plt.figure()\n",
    "ax = fig.add_subplot(2, 1, 1)\n",
    "ax.hist(bins[:-1], bins=bins, weights=counts)\n",
    "plt.xlabel('Number of Emojis in Tweet')\n",
    "plt.ylabel('Count')\n",
    "plt.title('Histogram of Emojis in Tweet')\n",
    "plt.show()"
   ]
  }
 ],
 "metadata": {
  "kernelspec": {
   "display_name": "DS 5110 Spark 3.1",
   "language": "python",
   "name": "ds5110_spark3.1"
  },
  "language_info": {
   "codemirror_mode": {
    "name": "ipython",
    "version": 3
   },
   "file_extension": ".py",
   "mimetype": "text/x-python",
   "name": "python",
   "nbconvert_exporter": "python",
   "pygments_lexer": "ipython3",
   "version": "3.7.10"
  }
 },
 "nbformat": 4,
 "nbformat_minor": 4
}
