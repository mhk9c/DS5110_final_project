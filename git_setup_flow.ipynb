{
 "cells": [
  {
   "cell_type": "markdown",
   "metadata": {},
   "source": [
    "# Very high level overview of getting github to push changes from Rivanna.\n",
    "    I'm sure there is a simplier way to do this.\n",
    "\n",
    "## Setting up a ssh \n",
    "[Connecting to github via ssh](https://docs.github.com/en/authentication/connecting-to-github-with-ssh/about-ssh)\n",
    "    \n",
    "      \n",
    "## Github workflow \n",
    "[Github flow.](https://docs.github.com/en/get-started/quickstart/github-flow)\n",
    "[gitflow](https://www.atlassian.com/git/tutorials/comparing-workflows/gitflow-workflow)\n",
    "    \n",
    "### Create local branch for work (I'm assuming we will just be working from main)\n",
    "* git checkout -b \"branch name\"\n",
    "\n",
    "### Do work in new branch\n",
    "\n",
    "### Commit local changes\n",
    "* git commit -am \"commit message\"\n",
    "\n",
    "### Push changes - \n",
    "[Push with SSH](https://gist.github.com/xirixiz/b6b0c6f4917ce17a90e00f9b60566278)\n",
    "* git remote set-url origin git@github.com:Eribakova/DS6001Project.git\n",
    "* git push\n",
    "\n",
    "### Make a pull request to merge the branch work into main.\n",
    "* I think the easiest way is to do this from the website.\n",
    "* We can approve our own pr's.\n",
    "    "
   ]
  },
  {
   "cell_type": "code",
   "execution_count": null,
   "metadata": {},
   "outputs": [],
   "source": []
  }
 ],
 "metadata": {
  "kernelspec": {
   "display_name": "Python 3",
   "language": "python",
   "name": "python3"
  },
  "language_info": {
   "codemirror_mode": {
    "name": "ipython",
    "version": 3
   },
   "file_extension": ".py",
   "mimetype": "text/x-python",
   "name": "python",
   "nbconvert_exporter": "python",
   "pygments_lexer": "ipython3",
   "version": "3.8.8"
  }
 },
 "nbformat": 4,
 "nbformat_minor": 4
}
